{
 "cells": [
  {
   "cell_type": "code",
   "execution_count": 1,
   "metadata": {},
   "outputs": [],
   "source": [
    "from ddsc.sdk import Client"
   ]
  },
  {
   "cell_type": "markdown",
   "metadata": {},
   "source": [
    "Maybe a simpler import, like `from ddsc import DukeDS` or `import DukeDS`"
   ]
  },
  {
   "cell_type": "code",
   "execution_count": 3,
   "metadata": {
    "scrolled": true
   },
   "outputs": [
    {
     "name": "stdout",
     "output_type": "stream",
     "text": [
      "Help on class Client in module ddsc.sdk.client:\n",
      "\n",
      "class Client(builtins.object)\n",
      " |  Client that connects to the DukeDS base on ~/.ddsclient configuration.\n",
      " |  This configuration can be customized by passing in a ddsc.config.Config object\n",
      " |  \n",
      " |  Methods defined here:\n",
      " |  \n",
      " |  __init__(self, config=<ddsc.config.Config object at 0x10f5e2f60>)\n",
      " |      :param config: ddsc.config.Config: settings used to connect to DukeDS\n",
      " |  \n",
      " |  create_project(self, name, description)\n",
      " |      Create a new project with the specified name and description\n",
      " |      :param name: str: name of the project\n",
      " |      :param description: str: description of the project\n",
      " |      :return: Project\n",
      " |  \n",
      " |  get_file_by_id(self, file_id)\n",
      " |      Return details about a file with the specified uuid\n",
      " |      :param file_id: str: uuid of the file to fetch\n",
      " |      :return: File\n",
      " |  \n",
      " |  get_folder_by_id(self, folder_id)\n",
      " |      Return details about a folder with the specified uuid\n",
      " |      :param folder_id: str: uuid of the folder to fetch\n",
      " |      :return: Folder\n",
      " |  \n",
      " |  get_project_by_id(self, project_id)\n",
      " |      Retrieve a single project.\n",
      " |      :param project_id:\n",
      " |      :return: Project\n",
      " |  \n",
      " |  get_projects(self)\n",
      " |      Get list of all projects user has access to.\n",
      " |      :return: [Project]: list of projects\n",
      " |  \n",
      " |  ----------------------------------------------------------------------\n",
      " |  Data descriptors defined here:\n",
      " |  \n",
      " |  __dict__\n",
      " |      dictionary for instance variables (if defined)\n",
      " |  \n",
      " |  __weakref__\n",
      " |      list of weak references to the object (if defined)\n",
      "\n"
     ]
    }
   ],
   "source": [
    "help(Client)"
   ]
  },
  {
   "cell_type": "markdown",
   "metadata": {},
   "source": [
    "> Client that connects to the DukeDS base on ~/.ddsclient configuration.\n",
    "> This configuration can be customized by passing in a ddsc.config.Config object\n",
    "\n",
    "This should be more user-friendly, e.g. _Object for interacting with Duke Data Service. Reads credentials and configuration from ~/.ddsclient by default. See http://xyz for details_"
   ]
  },
  {
   "cell_type": "code",
   "execution_count": 4,
   "metadata": {},
   "outputs": [],
   "source": [
    "client = Client()"
   ]
  },
  {
   "cell_type": "code",
   "execution_count": 5,
   "metadata": {},
   "outputs": [
    {
     "name": "stdout",
     "output_type": "stream",
     "text": [
      "Help on Client in module ddsc.sdk.client object:\n",
      "\n",
      "class Client(builtins.object)\n",
      " |  Client that connects to the DukeDS base on ~/.ddsclient configuration.\n",
      " |  This configuration can be customized by passing in a ddsc.config.Config object\n",
      " |  \n",
      " |  Methods defined here:\n",
      " |  \n",
      " |  __init__(self, config=<ddsc.config.Config object at 0x10f5e2f60>)\n",
      " |      :param config: ddsc.config.Config: settings used to connect to DukeDS\n",
      " |  \n",
      " |  create_project(self, name, description)\n",
      " |      Create a new project with the specified name and description\n",
      " |      :param name: str: name of the project\n",
      " |      :param description: str: description of the project\n",
      " |      :return: Project\n",
      " |  \n",
      " |  get_file_by_id(self, file_id)\n",
      " |      Return details about a file with the specified uuid\n",
      " |      :param file_id: str: uuid of the file to fetch\n",
      " |      :return: File\n",
      " |  \n",
      " |  get_folder_by_id(self, folder_id)\n",
      " |      Return details about a folder with the specified uuid\n",
      " |      :param folder_id: str: uuid of the folder to fetch\n",
      " |      :return: Folder\n",
      " |  \n",
      " |  get_project_by_id(self, project_id)\n",
      " |      Retrieve a single project.\n",
      " |      :param project_id:\n",
      " |      :return: Project\n",
      " |  \n",
      " |  get_projects(self)\n",
      " |      Get list of all projects user has access to.\n",
      " |      :return: [Project]: list of projects\n",
      " |  \n",
      " |  ----------------------------------------------------------------------\n",
      " |  Data descriptors defined here:\n",
      " |  \n",
      " |  __dict__\n",
      " |      dictionary for instance variables (if defined)\n",
      " |  \n",
      " |  __weakref__\n",
      " |      list of weak references to the object (if defined)\n",
      "\n"
     ]
    }
   ],
   "source": [
    "help(client)"
   ]
  },
  {
   "cell_type": "code",
   "execution_count": 6,
   "metadata": {},
   "outputs": [
    {
     "data": {
      "text/plain": [
       "[<ddsc.sdk.client.Project at 0x10fa557b8>,\n",
       " <ddsc.sdk.client.Project at 0x10fb0e358>,\n",
       " <ddsc.sdk.client.Project at 0x10fb0e588>,\n",
       " <ddsc.sdk.client.Project at 0x10fb0e278>,\n",
       " <ddsc.sdk.client.Project at 0x10fb0e550>,\n",
       " <ddsc.sdk.client.Project at 0x10fb0e390>,\n",
       " <ddsc.sdk.client.Project at 0x10fb0e978>,\n",
       " <ddsc.sdk.client.Project at 0x10fa82278>,\n",
       " <ddsc.sdk.client.Project at 0x10fa82b38>,\n",
       " <ddsc.sdk.client.Project at 0x10fa82eb8>,\n",
       " <ddsc.sdk.client.Project at 0x10fa82e48>,\n",
       " <ddsc.sdk.client.Project at 0x10fa82588>,\n",
       " <ddsc.sdk.client.Project at 0x10fa82f28>,\n",
       " <ddsc.sdk.client.Project at 0x10fa82940>,\n",
       " <ddsc.sdk.client.Project at 0x10fa82a90>,\n",
       " <ddsc.sdk.client.Project at 0x10fa824e0>,\n",
       " <ddsc.sdk.client.Project at 0x10fa822b0>,\n",
       " <ddsc.sdk.client.Project at 0x10fa829b0>,\n",
       " <ddsc.sdk.client.Project at 0x10fa82ac8>,\n",
       " <ddsc.sdk.client.Project at 0x10fa82080>,\n",
       " <ddsc.sdk.client.Project at 0x10fa82518>,\n",
       " <ddsc.sdk.client.Project at 0x10fa825c0>,\n",
       " <ddsc.sdk.client.Project at 0x10fa82a20>,\n",
       " <ddsc.sdk.client.Project at 0x10fa829e8>,\n",
       " <ddsc.sdk.client.Project at 0x10fa82a58>,\n",
       " <ddsc.sdk.client.Project at 0x10fa82c18>,\n",
       " <ddsc.sdk.client.Project at 0x10fa82b00>,\n",
       " <ddsc.sdk.client.Project at 0x10fa88128>,\n",
       " <ddsc.sdk.client.Project at 0x10fa880b8>,\n",
       " <ddsc.sdk.client.Project at 0x10fa88080>,\n",
       " <ddsc.sdk.client.Project at 0x10fa88fd0>,\n",
       " <ddsc.sdk.client.Project at 0x10fa88358>,\n",
       " <ddsc.sdk.client.Project at 0x10fa883c8>,\n",
       " <ddsc.sdk.client.Project at 0x10fa88cf8>,\n",
       " <ddsc.sdk.client.Project at 0x10fa88518>,\n",
       " <ddsc.sdk.client.Project at 0x10fa88668>,\n",
       " <ddsc.sdk.client.Project at 0x10fa88f28>,\n",
       " <ddsc.sdk.client.Project at 0x10fa88da0>,\n",
       " <ddsc.sdk.client.Project at 0x10fa88f98>,\n",
       " <ddsc.sdk.client.Project at 0x10fa88be0>,\n",
       " <ddsc.sdk.client.Project at 0x10fa88a58>,\n",
       " <ddsc.sdk.client.Project at 0x10fa88908>,\n",
       " <ddsc.sdk.client.Project at 0x10fa88e80>,\n",
       " <ddsc.sdk.client.Project at 0x10fa885c0>,\n",
       " <ddsc.sdk.client.Project at 0x10fa88b00>,\n",
       " <ddsc.sdk.client.Project at 0x10fa88470>,\n",
       " <ddsc.sdk.client.Project at 0x10fa88390>,\n",
       " <ddsc.sdk.client.Project at 0x10fa88dd8>,\n",
       " <ddsc.sdk.client.Project at 0x10fa88ef0>,\n",
       " <ddsc.sdk.client.Project at 0x10fa88940>,\n",
       " <ddsc.sdk.client.Project at 0x10fa88320>,\n",
       " <ddsc.sdk.client.Project at 0x10fa88048>,\n",
       " <ddsc.sdk.client.Project at 0x10fa881d0>,\n",
       " <ddsc.sdk.client.Project at 0x10fa884a8>,\n",
       " <ddsc.sdk.client.Project at 0x10fa88c50>,\n",
       " <ddsc.sdk.client.Project at 0x10fa88278>]"
      ]
     },
     "execution_count": 6,
     "metadata": {},
     "output_type": "execute_result"
    }
   ],
   "source": [
    "client.get_projects()"
   ]
  },
  {
   "cell_type": "markdown",
   "metadata": {},
   "source": [
    "`client.get_projects()` - I think `list_projects` is more accurate. And the projects don't have much of a representation in jupyter notebook here"
   ]
  },
  {
   "cell_type": "code",
   "execution_count": 1,
   "metadata": {},
   "outputs": [
    {
     "ename": "SyntaxError",
     "evalue": "invalid syntax (<ipython-input-1-3774a377071f>, line 1)",
     "output_type": "error",
     "traceback": [
      "\u001b[0;36m  File \u001b[0;32m\"<ipython-input-1-3774a377071f>\"\u001b[0;36m, line \u001b[0;32m1\u001b[0m\n\u001b[0;31m    [('Project A', 'abcd-12415'), ('Project B', 'abcd-123141'))\u001b[0m\n\u001b[0m                                                              ^\u001b[0m\n\u001b[0;31mSyntaxError\u001b[0m\u001b[0;31m:\u001b[0m invalid syntax\n"
     ]
    }
   ],
   "source": [
    "def list_projects(ids=False):\n",
    "    if ids:\n",
    "        return [('Project A', 'abcd-12415'), ('Project B', 'abcd-123141')]\n",
    "    else:\n",
    "        return ['Project A', 'Project B']\n",
    "    \n",
    "    \n",
    "\n",
    "\n"
   ]
  },
  {
   "cell_type": "code",
   "execution_count": 7,
   "metadata": {},
   "outputs": [],
   "source": [
    "projects = client.get_projects()"
   ]
  },
  {
   "cell_type": "code",
   "execution_count": 8,
   "metadata": {},
   "outputs": [
    {
     "data": {
      "text/plain": [
       "<ddsc.sdk.client.Project at 0x11052d470>"
      ]
     },
     "execution_count": 8,
     "metadata": {},
     "output_type": "execute_result"
    }
   ],
   "source": [
    "projects[0]"
   ]
  },
  {
   "cell_type": "code",
   "execution_count": 10,
   "metadata": {},
   "outputs": [],
   "source": [
    "first_project = projects[0]"
   ]
  },
  {
   "cell_type": "code",
   "execution_count": 11,
   "metadata": {},
   "outputs": [
    {
     "data": {
      "text/plain": [
       "'pythonint_test'"
      ]
     },
     "execution_count": 11,
     "metadata": {},
     "output_type": "execute_result"
    }
   ],
   "source": [
    "first_project.name"
   ]
  },
  {
   "cell_type": "code",
   "execution_count": 13,
   "metadata": {},
   "outputs": [],
   "source": [
    "children = first_project.get_children()"
   ]
  },
  {
   "cell_type": "code",
   "execution_count": 15,
   "metadata": {},
   "outputs": [
    {
     "name": "stdout",
     "output_type": "stream",
     "text": [
      "test_util.cpython-36.pyc\n",
      "test_util.cpython-35.pyc\n",
      "test_remotestore.cpython-36.pyc\n",
      "test_upload.cpython-36.pyc\n",
      "test_upload.cpython-35.pyc\n",
      "test_remotestore.cpython-35.pyc\n",
      "test_projectuploader.cpython-35.pyc\n",
      "test_projectuploader.cpython-36.pyc\n",
      "test_pathfilter.cpython-36.pyc\n",
      "test_localstore.cpython-36.pyc\n",
      "test_pathfilter.cpython-35.pyc\n",
      "test_fileuploader.cpython-36.pyc\n",
      "test_parallel.cpython-36.pyc\n",
      "test_localstore.cpython-35.pyc\n",
      "test_filedownloader.cpython-36.pyc\n",
      "test_fileuploader.cpython-35.pyc\n",
      "test_parallel.cpython-35.pyc\n",
      "test_ignorefile.cpython-36.pyc\n",
      "test_download.cpython-36.pyc\n",
      "test_ddsapi.cpython-36.pyc\n",
      "test_filedownloader.cpython-35.pyc\n",
      "__init__.cpython-35.pyc\n",
      "test_download.cpython-35.pyc\n",
      "__init__.cpython-36.pyc\n",
      "test_ddsapi.cpython-35.pyc\n",
      "test_d4s2.cpython-36.pyc\n",
      "test_d4s2.cpython-35.pyc\n",
      "__init__.cpython-36.pyc\n",
      "test_versioncheck.cpython-35.pyc\n",
      "test_versioncheck.cpython-36.pyc\n",
      "test_util.cpython-36.pyc\n",
      "test_util.cpython-35.pyc\n",
      "test_ddsclient.cpython-36.pyc\n",
      "test_ddsclient.cpython-35.pyc\n",
      "test_config.cpython-36.pyc\n",
      "test_config.cpython-35.pyc\n",
      "testfolder.tar\n",
      "test_cmdparser.cpython-36.pyc\n",
      "test_cmdparser.cpython-35.pyc\n",
      "test_util.py\n",
      "test_util.pyc\n",
      "__pycache__\n",
      "test_upload.pyc\n",
      "test_remotestore.pyc\n",
      "test_upload.py\n",
      "test_projectuploader.py\n",
      "test_remotestore.py\n",
      "test_projectuploader.pyc\n",
      "test_pathfilter.pyc\n",
      "test_pathfilter.py\n",
      "test_parallel.pyc\n",
      "test_localstore.pyc\n",
      "test_parallel.py\n",
      "test_localstore.py\n",
      "test_ignorefile.py\n",
      "test_ignorefile.pyc\n",
      "test_filedownloader.py\n",
      "test_fileuploader.pyc\n",
      "test_fileuploader.py\n",
      "test_filedownloader.pyc\n",
      "test_download.pyc\n",
      "test_ddsapi.pyc\n",
      "test_ddsapi.py\n",
      "test_download.py\n",
      "test_d4s2.py\n",
      "test_d4s2.pyc\n",
      "__init__.pyc\n",
      "util.cpython-36.pyc\n",
      "upload.cpython-36.pyc\n",
      "util.cpython-35.pyc\n",
      "upload.cpython-35.pyc\n",
      "__init__.py\n",
      "remotestore.cpython-36.pyc\n",
      "remotestore.cpython-35.pyc\n",
      "projectuploader.cpython-36.pyc\n",
      "projectuploader.cpython-35.pyc\n",
      "pathfilter.cpython-36.pyc\n",
      "pathfilter.cpython-35.pyc\n",
      "parallel.cpython-35.pyc\n",
      "localstore.cpython-36.pyc\n",
      "parallel.cpython-36.pyc\n",
      "ignorefile.cpython-36.pyc\n",
      "fileuploader.cpython-35.pyc\n",
      "localstore.cpython-35.pyc\n",
      "fileuploader.cpython-36.pyc\n",
      "filedownloader.cpython-36.pyc\n",
      "download.cpython-36.pyc\n",
      "filedownloader.cpython-35.pyc\n",
      "ddsapi.cpython-36.pyc\n",
      "download.cpython-35.pyc\n",
      "d4s2.cpython-35.pyc\n",
      "d4s2.cpython-36.pyc\n",
      "ddsapi.cpython-35.pyc\n",
      "__init__.cpython-36.pyc\n",
      "__init__.cpython-35.pyc\n",
      "client.py\n",
      "__init__.pyc\n",
      "__init__.py\n",
      "__pycache__\n",
      "test_versioncheck.pyc\n",
      "test_util.pyc\n",
      "test_versioncheck.py\n",
      "test_ddsclient.pyc\n",
      "test_ddsclient.py\n",
      "test_util.py\n",
      "__pycache__\n",
      "test_config.pyc\n",
      "test_cmdparser.py\n",
      "empty_file\n",
      "util.pyc\n",
      "test_config.py\n",
      "test_cmdparser.pyc\n",
      "util.py\n",
      "provenance.pyc\n",
      "upload.pyc\n",
      "tests\n",
      "__pycache__\n",
      "upload.py\n",
      "remotestore.pyc\n",
      "projectuploader.pyc\n",
      "remotestore.py\n",
      "projectuploader.py\n",
      "pathfilter.pyc\n",
      "parallel.pyc\n",
      "pathfilter.py\n",
      "ignorefile.pyc\n",
      "localstore.pyc\n",
      "parallel.py\n",
      "localstore.py\n",
      "ignorefile.py\n",
      "fileuploader.pyc\n",
      "filedownloader.pyc\n",
      "download.pyc\n",
      "filedownloader.py\n",
      "ddsapi.py\n",
      "fileuploader.py\n",
      "download.py\n",
      "ddsapi.pyc\n",
      "d4s2.py\n",
      "d4s2.pyc\n",
      "versioncheck.cpython-35.pyc\n",
      "ddsclient.cpython-36.pyc\n",
      "versioncheck.cpython-36.pyc\n",
      "__init__.pyc\n",
      "__init__.py\n",
      "config.cpython-36.pyc\n",
      "config.cpython-35.pyc\n",
      "cmdparser.cpython-35.pyc\n",
      "ddsclient.cpython-35.pyc\n",
      "cmdparser.cpython-36.pyc\n",
      "__init__.cpython-35.pyc\n",
      "__main__.cpython-36.pyc\n",
      "__main__.cpython-35.pyc\n",
      "__init__.cpython-36.pyc\n",
      "versioncheck.py\n",
      "versioncheck.pyc\n",
      "sdk\n",
      "tests\n",
      "sdk.pyc\n",
      "__pycache__\n",
      "DukeDSClient.pyc\n",
      "ddsclient.pyc\n",
      "core\n",
      "__init__.pyc\n",
      "cmdparser.pyc\n",
      "cmdparser.py\n",
      "__main__.py\n",
      "__init__.py\n",
      "ddsclient.py\n",
      "config.pyc\n",
      "config.py\n",
      "ddsc\n"
     ]
    }
   ],
   "source": [
    "for child in children:\n",
    "    print(child.name)"
   ]
  },
  {
   "cell_type": "markdown",
   "metadata": {},
   "source": [
    "So far I can navigate this but I'm pretty adept. Can I list projects by name?"
   ]
  },
  {
   "cell_type": "markdown",
   "metadata": {},
   "source": [
    "No, that's pretty important. Perhaps the project listing should be project names and IDs?"
   ]
  },
  {
   "cell_type": "code",
   "execution_count": 16,
   "metadata": {},
   "outputs": [],
   "source": [
    "first_child = children[0]"
   ]
  },
  {
   "cell_type": "code",
   "execution_count": 18,
   "metadata": {},
   "outputs": [
    {
     "data": {
      "text/plain": [
       "'test_util.cpython-36.pyc'"
      ]
     },
     "execution_count": 18,
     "metadata": {},
     "output_type": "execute_result"
    }
   ],
   "source": [
    "first_child."
   ]
  },
  {
   "cell_type": "code",
   "execution_count": 19,
   "metadata": {},
   "outputs": [
    {
     "ename": "IsADirectoryError",
     "evalue": "[Errno 21] Is a directory: '.'",
     "output_type": "error",
     "traceback": [
      "\u001b[0;31m---------------------------------------------------------------------------\u001b[0m",
      "\u001b[0;31mIsADirectoryError\u001b[0m                         Traceback (most recent call last)",
      "\u001b[0;32m<ipython-input-19-0c09b9be76af>\u001b[0m in \u001b[0;36m<module>\u001b[0;34m()\u001b[0m\n\u001b[0;32m----> 1\u001b[0;31m \u001b[0mfirst_child\u001b[0m\u001b[0;34m.\u001b[0m\u001b[0mdownload_to_path\u001b[0m\u001b[0;34m(\u001b[0m\u001b[0;34m'.'\u001b[0m\u001b[0;34m)\u001b[0m\u001b[0;34m\u001b[0m\u001b[0m\n\u001b[0m",
      "\u001b[0;32m~/Code/python/DukeDSClient/ddsc/sdk/client.py\u001b[0m in \u001b[0;36mdownload_to_path\u001b[0;34m(self, file_path)\u001b[0m\n\u001b[1;32m    378\u001b[0m         \"\"\"\n\u001b[1;32m    379\u001b[0m         \u001b[0mfile_download\u001b[0m \u001b[0;34m=\u001b[0m \u001b[0mself\u001b[0m\u001b[0;34m.\u001b[0m\u001b[0mduke_ds\u001b[0m\u001b[0;34m.\u001b[0m\u001b[0mget_file_download\u001b[0m\u001b[0;34m(\u001b[0m\u001b[0mself\u001b[0m\u001b[0;34m.\u001b[0m\u001b[0mid\u001b[0m\u001b[0;34m)\u001b[0m\u001b[0;34m\u001b[0m\u001b[0m\n\u001b[0;32m--> 380\u001b[0;31m         \u001b[0mfile_download\u001b[0m\u001b[0;34m.\u001b[0m\u001b[0msave_to_path\u001b[0m\u001b[0;34m(\u001b[0m\u001b[0mfile_path\u001b[0m\u001b[0;34m)\u001b[0m\u001b[0;34m\u001b[0m\u001b[0m\n\u001b[0m\u001b[1;32m    381\u001b[0m \u001b[0;34m\u001b[0m\u001b[0m\n\u001b[1;32m    382\u001b[0m     \u001b[0;32mdef\u001b[0m \u001b[0mdelete\u001b[0m\u001b[0;34m(\u001b[0m\u001b[0mself\u001b[0m\u001b[0;34m)\u001b[0m\u001b[0;34m:\u001b[0m\u001b[0;34m\u001b[0m\u001b[0m\n",
      "\u001b[0;32m~/Code/python/DukeDSClient/ddsc/sdk/client.py\u001b[0m in \u001b[0;36msave_to_path\u001b[0;34m(self, file_path, chunk_size)\u001b[0m\n\u001b[1;32m    421\u001b[0m         \"\"\"\n\u001b[1;32m    422\u001b[0m         \u001b[0mresponse\u001b[0m \u001b[0;34m=\u001b[0m \u001b[0mself\u001b[0m\u001b[0;34m.\u001b[0m\u001b[0m_get_download_response\u001b[0m\u001b[0;34m(\u001b[0m\u001b[0;34m)\u001b[0m\u001b[0;34m\u001b[0m\u001b[0m\n\u001b[0;32m--> 423\u001b[0;31m         \u001b[0;32mwith\u001b[0m \u001b[0mopen\u001b[0m\u001b[0;34m(\u001b[0m\u001b[0mfile_path\u001b[0m\u001b[0;34m,\u001b[0m \u001b[0;34m'wb'\u001b[0m\u001b[0;34m)\u001b[0m \u001b[0;32mas\u001b[0m \u001b[0mf\u001b[0m\u001b[0;34m:\u001b[0m\u001b[0;34m\u001b[0m\u001b[0m\n\u001b[0m\u001b[1;32m    424\u001b[0m             \u001b[0;32mfor\u001b[0m \u001b[0mchunk\u001b[0m \u001b[0;32min\u001b[0m \u001b[0mresponse\u001b[0m\u001b[0;34m.\u001b[0m\u001b[0miter_content\u001b[0m\u001b[0;34m(\u001b[0m\u001b[0mchunk_size\u001b[0m\u001b[0;34m=\u001b[0m\u001b[0mchunk_size\u001b[0m\u001b[0;34m)\u001b[0m\u001b[0;34m:\u001b[0m\u001b[0;34m\u001b[0m\u001b[0m\n\u001b[1;32m    425\u001b[0m                 \u001b[0;32mif\u001b[0m \u001b[0mchunk\u001b[0m\u001b[0;34m:\u001b[0m  \u001b[0;31m# filter out keep-alive new chunks\u001b[0m\u001b[0;34m\u001b[0m\u001b[0m\n",
      "\u001b[0;31mIsADirectoryError\u001b[0m: [Errno 21] Is a directory: '.'"
     ]
    }
   ],
   "source": [
    "first_child.download_to_path('.')"
   ]
  },
  {
   "cell_type": "markdown",
   "metadata": {},
   "source": [
    "`file.download_to_path` shouldn't require I provide a file name."
   ]
  },
  {
   "cell_type": "code",
   "execution_count": 20,
   "metadata": {},
   "outputs": [],
   "source": [
    "first_child.download_to_path('here.pyc')"
   ]
  },
  {
   "cell_type": "code",
   "execution_count": 23,
   "metadata": {},
   "outputs": [
    {
     "name": "stdout",
     "output_type": "stream",
     "text": [
      "here.pyc\r\n"
     ]
    }
   ],
   "source": [
    "%ls here.pyc"
   ]
  },
  {
   "cell_type": "markdown",
   "metadata": {},
   "source": [
    "How Do I upload to a project?"
   ]
  },
  {
   "cell_type": "code",
   "execution_count": 25,
   "metadata": {},
   "outputs": [
    {
     "name": "stdout",
     "output_type": "stream",
     "text": [
      "Help on method upload_file in module ddsc.sdk.client:\n",
      "\n",
      "upload_file(local_path) method of ddsc.sdk.client.Project instance\n",
      "    Upload a new file based on a file on the file system as a top level child of this project.\n",
      "    :param local_path: str: path to a file to upload\n",
      "    :return: File\n",
      "\n"
     ]
    }
   ],
   "source": [
    "help(first_project.upload_file)"
   ]
  },
  {
   "cell_type": "code",
   "execution_count": 26,
   "metadata": {},
   "outputs": [
    {
     "data": {
      "text/plain": [
       "<ddsc.sdk.client.File at 0x110323940>"
      ]
     },
     "execution_count": 26,
     "metadata": {},
     "output_type": "execute_result"
    }
   ],
   "source": [
    "first_project.upload_file('here.pyc')"
   ]
  },
  {
   "cell_type": "markdown",
   "metadata": {},
   "source": [
    "Upload looks good"
   ]
  },
  {
   "cell_type": "markdown",
   "metadata": {},
   "source": [
    "Let's say I know the file I want to get\n",
    "\n",
    "project.download_file('/remote_path_to_file')"
   ]
  },
  {
   "cell_type": "code",
   "execution_count": 28,
   "metadata": {},
   "outputs": [],
   "source": [
    "here = first_project.get_child_for_path('here.pyc')"
   ]
  },
  {
   "cell_type": "code",
   "execution_count": 29,
   "metadata": {},
   "outputs": [],
   "source": [
    "here.download_to_path('here2.pyc')"
   ]
  },
  {
   "cell_type": "markdown",
   "metadata": {},
   "source": [
    "Download doesn't return anything but upload does."
   ]
  },
  {
   "cell_type": "markdown",
   "metadata": {},
   "source": [
    "Simplest possible case:\n",
    "\n",
    "```\n",
    "dds = DukeDS(config_file='~/other-config')\n",
    "\n",
    "# Err on side of easily using names but raise an exception if too many results.\n",
    "\n",
    "dds.list_projects(ids=False) # defaults false\n",
    "dds.list_files(project_name, remote_path='/', ids=False)\n",
    "\n",
    "# Assuming user knows file name\n",
    "dds.download_file('project_name','/remote/path/to/file', local_path='path_to_file') # where local path is optional\n",
    "\n",
    "# wraps a more advanced method that handles things by ID\n",
    "\n",
    "dds.upload_file('local_path','project_name','/remote_path')\n",
    "\n",
    "```\n",
    "\n"
   ]
  },
  {
   "cell_type": "markdown",
   "metadata": {},
   "source": [
    "Or simpler yet, let it work like requests:\n",
    "\n",
    "```\n",
    "import DukeDS\n",
    "\n",
    "DukeDS.download_file('project name', 'remote/path/to/file')\n",
    "```\n",
    "\n",
    "The other benefit here is that it might be simpler to implement with other languages"
   ]
  },
  {
   "cell_type": "code",
   "execution_count": null,
   "metadata": {},
   "outputs": [],
   "source": [
    "files = DukeDS.list_files('My Project')\n",
    "for file in files:\n",
    "    if file in LIST_OF_FILES_TO_DOWNLOAD:\n",
    "        DukeDS.download_file('My Project', file)"
   ]
  },
  {
   "cell_type": "code",
   "execution_count": null,
   "metadata": {},
   "outputs": [],
   "source": [
    "def delete(project_name, are_you_sure=False):\n",
    "    if not are_you_sure:\n",
    "        raise {}\n",
    "        \n",
    "        \n"
   ]
  }
 ],
 "metadata": {
  "kernelspec": {
   "display_name": "Python 3",
   "language": "python",
   "name": "python3"
  },
  "language_info": {
   "codemirror_mode": {
    "name": "ipython",
    "version": 3
   },
   "file_extension": ".py",
   "mimetype": "text/x-python",
   "name": "python",
   "nbconvert_exporter": "python",
   "pygments_lexer": "ipython3",
   "version": "3.6.3"
  }
 },
 "nbformat": 4,
 "nbformat_minor": 2
}
