{
 "cells": [
  {
   "cell_type": "markdown",
   "metadata": {},
   "source": [
    "Suppose a, b, c, and d are different positive integers whose sum is 100, and `a - c = 5`. What is the greatest possible value of `ac - cd`?"
   ]
  },
  {
   "cell_type": "code",
   "execution_count": 1,
   "metadata": {},
   "outputs": [],
   "source": [
    "def valid_combinations():\n",
    "    for a in range(1,100):\n",
    "        for b in range(1,100):\n",
    "            for c in range(1,100):\n",
    "                for d in range(1, 100):\n",
    "                    yield (a,b,c,d)"
   ]
  },
  {
   "cell_type": "code",
   "execution_count": 2,
   "metadata": {},
   "outputs": [],
   "source": [
    "def check_combination(combination):\n",
    "    a,b,c,d = combination\n",
    "    if not a - c  == 5:\n",
    "        return False\n",
    "    if a == b or a == c or a == d or b == c or b == d or c == d:\n",
    "        return False\n",
    "    if a + b + c + d == 100:\n",
    "        return True\n",
    "    return False\n",
    "\n",
    "def compute(combination):\n",
    "    a,b,c,d = combination\n",
    "    return a * b - c * d"
   ]
  },
  {
   "cell_type": "code",
   "execution_count": 3,
   "metadata": {},
   "outputs": [
    {
     "name": "stdout",
     "output_type": "stream",
     "text": [
      "1331 (26, 52, 21, 1)\n"
     ]
    }
   ],
   "source": [
    "winning_combo = (0,0,0,0)\n",
    "largest_result = 0\n",
    "for combination in valid_combinations():\n",
    "    if check_combination(combination):\n",
    "        result = compute(combination)\n",
    "        if result > largest_result:\n",
    "            winning_combo = combination\n",
    "            largest_result = result\n",
    "print(largest_result, winning_combo)\n",
    "        "
   ]
  },
  {
   "cell_type": "markdown",
   "metadata": {},
   "source": [
    "Largest is 1311 with A=26, B=52, C=21, D=1"
   ]
  },
  {
   "cell_type": "code",
   "execution_count": null,
   "metadata": {},
   "outputs": [],
   "source": []
  }
 ],
 "metadata": {
  "kernelspec": {
   "display_name": "Python 3",
   "language": "python",
   "name": "python3"
  },
  "language_info": {
   "codemirror_mode": {
    "name": "ipython",
    "version": 3
   },
   "file_extension": ".py",
   "mimetype": "text/x-python",
   "name": "python",
   "nbconvert_exporter": "python",
   "pygments_lexer": "ipython3",
   "version": "3.7.4"
  }
 },
 "nbformat": 4,
 "nbformat_minor": 2
}
